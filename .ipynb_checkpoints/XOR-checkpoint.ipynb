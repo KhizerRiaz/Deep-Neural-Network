{
 "cells": [
  {
   "cell_type": "code",
   "execution_count": 8,
   "id": "0cf2a0cd",
   "metadata": {},
   "outputs": [],
   "source": [
    "import numpy as np\n",
    "from keras.models import Sequential\n",
    "from keras.layers.core import Dense\n",
    "from keras.optimizers import Adam"
   ]
  },
  {
   "cell_type": "code",
   "execution_count": 6,
   "id": "2224bf91",
   "metadata": {},
   "outputs": [
    {
     "name": "stdout",
     "output_type": "stream",
     "text": [
      "[[0. 0.]\n",
      " [0. 1.]\n",
      " [1. 0.]\n",
      " [1. 1.]] [[0.]\n",
      " [1.]\n",
      " [1.]\n",
      " [0.]]\n"
     ]
    }
   ],
   "source": [
    "features = np.array([[0,0] , [0,1] , [1,0] , [1,1]] , \"float32\")\n",
    "targets = np.array([[0] , [1] , [1] , [0]] , \"float32\")\n",
    "\n",
    "# print(features , targets)\n",
    "\n",
    "model = Sequential()\n",
    "\n",
    "model.add(Dense(16 , input_dim = 2 , activation = 'relu'))\n",
    "model.add(Dense(16 , input_dim = 16 , activation = 'relu'))\n",
    "model.add(Dense(16 , input_dim = 16 , activation = 'relu'))\n",
    "model.add(Dense(16 , input_dim = 16 , activation = 'relu'))\n",
    "model.add(Dense(16 , input_dim = 16 , activation = 'relu'))\n",
    "model.add(Dense(16 , input_dim = 16 , activation = 'relu'))\n",
    "model.add(Dense(16 , input_dim = 16 , activation = 'relu'))\n",
    "model.add(Dense(1 , activation = 'sigmoid'))\n",
    "\n",
    "print(model.weights)\n",
    "\n",
    "optimizer = Adam(learning_rate = 0.001)\n",
    "model.compile(optimizer = optimizer , loss = 'mean_squared_error' , metrics = ['binary_accuracy'])\n",
    "\n",
    "verbose = 0 means silent , 1 and 2 are showing results\n",
    "\n",
    "model.fit(features , targets , epochs = 1000 , verbose = 2)\n",
    "\n",
    "print(model.weights)"
   ]
  },
  {
   "cell_type": "code",
   "execution_count": 11,
   "id": "0448f432",
   "metadata": {},
   "outputs": [
    {
     "name": "stdout",
     "output_type": "stream",
     "text": [
      "0\n"
     ]
    }
   ],
   "source": []
  }
 ],
 "metadata": {
  "kernelspec": {
   "display_name": "Python 3 (ipykernel)",
   "language": "python",
   "name": "python3"
  },
  "language_info": {
   "codemirror_mode": {
    "name": "ipython",
    "version": 3
   },
   "file_extension": ".py",
   "mimetype": "text/x-python",
   "name": "python",
   "nbconvert_exporter": "python",
   "pygments_lexer": "ipython3",
   "version": "3.10.0"
  }
 },
 "nbformat": 4,
 "nbformat_minor": 5
}
